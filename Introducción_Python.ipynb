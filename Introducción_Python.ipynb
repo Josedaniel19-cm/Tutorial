{
 "cells": [
  {
   "cell_type": "markdown",
   "id": "9de91b72",
   "metadata": {},
   "source": [
    "# 🐍 Introducción a Python: Guía en 18 pasos\n",
    "Esta guía te llevará paso a paso a través de los conceptos esenciales de Python, combinando teoría, ejemplos prácticos y buenas prácticas de programación.\n",
    "Python es un lenguaje versátil, legible y ampliamente usado en ciencia de datos, análisis económico, desarrollo web y automatización.\n",
    "---"
   ]
  },
  {
   "cell_type": "markdown",
   "id": "8d14e536",
   "metadata": {},
   "source": [
    "## 1. Instalación y entorno\n",
    "Antes de comenzar, asegúrate de tener Python instalado. Puedes hacerlo desde [python.org](https://www.python.org/downloads/), o usar entornos como **Google Colab**, **Jupyter Notebook** o **Visual Studio Code (VS Code)**.\n",
    "\n",
    "Verifica tu instalación ejecutando en la terminal:\n",
    "\n",
    "```bash\n",
    "python --version\n",
    "```\n",
    "\n",
    "Esto mostrará la versión de Python instalada. Si obtienes un error, revisa las variables de entorno o reinstala Python.\n",
    "\n",
    " **Tip:** En VS Code, instala la extensión oficial de *Python (Microsoft)* para ejecutar código fácilmente."
   ]
  },
  {
   "cell_type": "markdown",
   "id": "aab6cc68",
   "metadata": {},
   "source": [
    "## 2. Primer programa: 'Hola, estoy aprendiendo Python'\n",
    "El clásico primer paso en cualquier lenguaje de programación.\n"
   ]
  },
  {
   "cell_type": "code",
   "execution_count": 2,
   "id": "6655aae7",
   "metadata": {},
   "outputs": [
    {
     "name": "stdout",
     "output_type": "stream",
     "text": [
      "Hola, estoy aprendiendo python\n"
     ]
    }
   ],
   "source": [
    "print('Hola, estoy aprendiendo python')"
   ]
  },
  {
   "cell_type": "markdown",
   "id": "450ae76a",
   "metadata": {},
   "source": [
    "📘 **Explicación:** `print()` sirve para mostrar mensajes o resultados en pantalla. Puedes imprimir texto, números, variables o incluso resultados de operaciones matemáticas.\n",
    "\n",
    " **Ejemplo adicional:**"
   ]
  },
  {
   "cell_type": "code",
   "execution_count": 3,
   "id": "82859cef",
   "metadata": {},
   "outputs": [
    {
     "name": "stdout",
     "output_type": "stream",
     "text": [
      "El resultado es: 8\n"
     ]
    }
   ],
   "source": [
    "print('El resultado es:', 5 + 3)"
   ]
  },
  {
   "cell_type": "markdown",
   "id": "984fc510",
   "metadata": {},
   "source": [
    " 3. Variables y tipos de datos"
   ]
  },
  {
   "cell_type": "markdown",
   "id": "1fb6d77a",
   "metadata": {},
   "source": [
    "En Python no necesitas declarar el tipo de dato, ya que el lenguaje lo infiere automáticamente."
   ]
  },
  {
   "cell_type": "code",
   "execution_count": 5,
   "id": "1e6a240e",
   "metadata": {},
   "outputs": [],
   "source": [
    "nombre = 'Jose Daniel'\n",
    "edad = 21\n",
    "altura = 1.63\n",
    "Estudiante = True\n"
   ]
  },
  {
   "cell_type": "markdown",
   "id": "fb282c0c",
   "metadata": {},
   "source": [
    "📘 **Tipos comunes:**\n",
    "- `str`: texto\n",
    "- `int`: número entero\n",
    "- `float`: número decimal\n",
    "- `bool`: verdadero o falso"
   ]
  },
  {
   "cell_type": "markdown",
   "id": "fb8ebc66",
   "metadata": {},
   "source": [
    " **Tip:** Usa `type(variable)` para saber el tipo de dato de una variable."
   ]
  },
  {
   "cell_type": "code",
   "execution_count": 6,
   "id": "56377e65",
   "metadata": {},
   "outputs": [
    {
     "name": "stdout",
     "output_type": "stream",
     "text": [
      "<class 'int'>\n"
     ]
    }
   ],
   "source": [
    "print(type(edad))"
   ]
  },
  {
   "cell_type": "markdown",
   "id": "04f1657e",
   "metadata": {},
   "source": [
    "## 4. Operaciones básicas"
   ]
  },
  {
   "cell_type": "markdown",
   "id": "aa9c3276",
   "metadata": {},
   "source": [
    "Python permite realizar fácilmente operaciones matemáticas:"
   ]
  },
  {
   "cell_type": "code",
   "execution_count": 7,
   "id": "41d23280",
   "metadata": {},
   "outputs": [
    {
     "name": "stdout",
     "output_type": "stream",
     "text": [
      "13\n",
      "7\n",
      "30\n",
      "3.3333333333333335\n",
      "1000\n",
      "1\n"
     ]
    }
   ],
   "source": [
    "a = 10\n",
    "b = 3\n",
    "\n",
    "print(a + b)  # Suma\n",
    "print(a - b)  # Resta\n",
    "print(a * b)  # Multiplicación\n",
    "print(a / b)  # División\n",
    "print(a ** b) # Potencia\n",
    "print(a % b)  # Módulo"
   ]
  },
  {
   "cell_type": "markdown",
   "id": "b8909775",
   "metadata": {},
   "source": [
    "💡 Usa `//` si quieres división entera (sin decimales): `a // b`.\n",
    "\n",
    "📘 **Ejemplo práctico:** Calcular el promedio de tres notas."
   ]
  },
  {
   "cell_type": "markdown",
   "id": "1a1de20c",
   "metadata": {},
   "source": [
    "## 5. Entrada de datos"
   ]
  },
  {
   "cell_type": "markdown",
   "id": "80eb911c",
   "metadata": {},
   "source": [
    "Puedes interactuar con el usuario usando `input()`, que siempre devuelve texto."
   ]
  },
  {
   "cell_type": "code",
   "execution_count": 15,
   "id": "00bc4b7e",
   "metadata": {},
   "outputs": [
    {
     "name": "stdout",
     "output_type": "stream",
     "text": [
      "Hola DANIEL\n"
     ]
    }
   ],
   "source": [
    "nombre = input('¿Cómo te llamas? ')\n",
    "print('Hola', nombre)"
   ]
  },
  {
   "cell_type": "markdown",
   "id": "e704964e",
   "metadata": {},
   "source": [
    "Si necesitas números:"
   ]
  },
  {
   "cell_type": "code",
   "execution_count": 16,
   "id": "adce9eef",
   "metadata": {},
   "outputs": [],
   "source": [
    "edad = int(input('¿Cuántos años tienes? '))"
   ]
  },
  {
   "cell_type": "markdown",
   "id": "150f2301",
   "metadata": {},
   "source": [
    "💡 **Buena práctica:** Convierte el dato al tipo correcto (`int`, `float`, etc.) antes de hacer cálculos."
   ]
  },
  {
   "cell_type": "markdown",
   "id": "7f5c6148",
   "metadata": {},
   "source": [
    "## 6. Condicionales (if, elif, else)"
   ]
  },
  {
   "cell_type": "markdown",
   "id": "97f1534d",
   "metadata": {},
   "source": [
    "Permiten ejecutar acciones según una condición lógica."
   ]
  },
  {
   "cell_type": "code",
   "execution_count": 17,
   "id": "928fe7e1",
   "metadata": {},
   "outputs": [
    {
     "name": "stdout",
     "output_type": "stream",
     "text": [
      "Eres mayor de edad\n"
     ]
    }
   ],
   "source": [
    "edad = int(input('Edad: '))\n",
    "\n",
    "if edad >= 18:\n",
    "    print('Eres mayor de edad')\n",
    "elif edad >= 13:\n",
    "    print('Eres adolescente')\n",
    "else:\n",
    "    print('Eres menor de edad')"
   ]
  },
  {
   "cell_type": "markdown",
   "id": "6accc64d",
   "metadata": {},
   "source": [
    "💡 **Tip:** Usa operadores lógicos (`and`, `or`, `not`) para combinar condiciones."
   ]
  },
  {
   "cell_type": "markdown",
   "id": "75f2a337",
   "metadata": {},
   "source": [
    "## 7. Bucles (for y while)"
   ]
  },
  {
   "cell_type": "markdown",
   "id": "1b514a08",
   "metadata": {},
   "source": [
    "Los bucles permiten repetir acciones varias veces."
   ]
  },
  {
   "cell_type": "markdown",
   "id": "893a841d",
   "metadata": {},
   "source": [
    "**For:**"
   ]
  },
  {
   "cell_type": "code",
   "execution_count": 18,
   "id": "d273eb74",
   "metadata": {},
   "outputs": [
    {
     "name": "stdout",
     "output_type": "stream",
     "text": [
      "Número: 1\n",
      "Número: 2\n",
      "Número: 3\n",
      "Número: 4\n",
      "Número: 5\n"
     ]
    }
   ],
   "source": [
    "for i in range(1, 6):\n",
    "    print('Número:', i)"
   ]
  },
  {
   "cell_type": "markdown",
   "id": "56e98b7d",
   "metadata": {},
   "source": [
    "**While:**"
   ]
  },
  {
   "cell_type": "code",
   "execution_count": 19,
   "id": "9eacdc7d",
   "metadata": {},
   "outputs": [
    {
     "name": "stdout",
     "output_type": "stream",
     "text": [
      "x vale 0\n",
      "x vale 1\n",
      "x vale 2\n",
      "x vale 3\n",
      "x vale 4\n"
     ]
    }
   ],
   "source": [
    "x = 0\n",
    "while x < 5:\n",
    "    print('x vale', x)\n",
    "    x += 1"
   ]
  },
  {
   "cell_type": "markdown",
   "id": "f2cd5642",
   "metadata": {},
   "source": [
    "💡 **Tip:** Usa `break` para detener un bucle o `continue` para saltar una iteración."
   ]
  },
  {
   "cell_type": "markdown",
   "id": "5e78fba1",
   "metadata": {},
   "source": [
    "## 8. Listas y manipulación\n",
    "Las listas almacenan colecciones de datos."
   ]
  },
  {
   "cell_type": "code",
   "execution_count": 20,
   "id": "5303b9f7",
   "metadata": {},
   "outputs": [
    {
     "name": "stdout",
     "output_type": "stream",
     "text": [
      "10\n",
      "4\n"
     ]
    }
   ],
   "source": [
    "numeros = [10, 20, 30, 40]\n",
    "print(numeros[0])\n",
    "numeros.append(50)\n",
    "numeros.remove(20)\n",
    "print(len(numeros))"
   ]
  },
  {
   "cell_type": "markdown",
   "id": "b3e43828",
   "metadata": {},
   "source": [
    "💡 Puedes recorrer una lista con un `for`:"
   ]
  },
  {
   "cell_type": "code",
   "execution_count": 21,
   "id": "a6ffc6dd",
   "metadata": {},
   "outputs": [
    {
     "name": "stdout",
     "output_type": "stream",
     "text": [
      "10\n",
      "30\n",
      "40\n",
      "50\n"
     ]
    }
   ],
   "source": [
    "for n in numeros:\n",
    "    print(n)"
   ]
  },
  {
   "cell_type": "markdown",
   "id": "3410e13c",
   "metadata": {},
   "source": [
    "## 9. Diccionarios\n",
    "Los diccionarios almacenan datos en pares **clave: valor**."
   ]
  },
  {
   "cell_type": "code",
   "execution_count": 22,
   "id": "3e5b2166",
   "metadata": {},
   "outputs": [
    {
     "name": "stdout",
     "output_type": "stream",
     "text": [
      "Ana\n"
     ]
    }
   ],
   "source": [
    "persona = {'nombre': 'Ana', 'edad': 25, 'ciudad': 'Medellín'}\n",
    "print(persona['nombre'])\n",
    "persona['edad'] = 26"
   ]
  },
  {
   "cell_type": "markdown",
   "id": "73522f5b",
   "metadata": {},
   "source": [
    "💡 Usa `.keys()` y `.values()` para ver las claves y valores respectivamente."
   ]
  },
  {
   "cell_type": "markdown",
   "id": "fb45ca4f",
   "metadata": {},
   "source": [
    "## 10. Funciones\n",
    "Permiten organizar y reutilizar código."
   ]
  },
  {
   "cell_type": "code",
   "execution_count": 23,
   "id": "551632bb",
   "metadata": {},
   "outputs": [
    {
     "name": "stdout",
     "output_type": "stream",
     "text": [
      "Hola, Daniel\n"
     ]
    }
   ],
   "source": [
    "def saludar(nombre):\n",
    "    print('Hola,', nombre)\n",
    "\n",
    "saludar('Daniel')"
   ]
  },
  {
   "cell_type": "markdown",
   "id": "2b279755",
   "metadata": {},
   "source": [
    "💡 **Tip:** Una función puede devolver valores con `return`. Ejemplo:"
   ]
  },
  {
   "cell_type": "code",
   "execution_count": 24,
   "id": "cfb3f4ce",
   "metadata": {},
   "outputs": [
    {
     "name": "stdout",
     "output_type": "stream",
     "text": [
      "25\n"
     ]
    }
   ],
   "source": [
    "def cuadrado(x):\n",
    "    return x**2\n",
    "print(cuadrado(5))"
   ]
  },
  {
   "cell_type": "markdown",
   "id": "9911aed1",
   "metadata": {},
   "source": [
    "## 11. Librerías (módulos)\n",
    "Python tiene miles de módulos listos para usar."
   ]
  },
  {
   "cell_type": "code",
   "execution_count": 25,
   "id": "199adebd",
   "metadata": {},
   "outputs": [
    {
     "name": "stdout",
     "output_type": "stream",
     "text": [
      "4.0\n",
      "3.141592653589793\n"
     ]
    }
   ],
   "source": [
    "import math\n",
    "print(math.sqrt(16))\n",
    "print(math.pi)"
   ]
  },
  {
   "cell_type": "markdown",
   "id": "f2035f32",
   "metadata": {},
   "source": [
    "💡 Usa `dir(math)` para explorar las funciones disponibles dentro de un módulo."
   ]
  },
  {
   "cell_type": "markdown",
   "id": "56046e28",
   "metadata": {},
   "source": [
    "## 12. Numpy: operaciones con matrices\n",
    "Instálalo con `pip install numpy`\n"
   ]
  },
  {
   "cell_type": "code",
   "execution_count": 26,
   "id": "c6e3692c",
   "metadata": {},
   "outputs": [
    {
     "name": "stdout",
     "output_type": "stream",
     "text": [
      "[[ 6  8]\n",
      " [10 12]]\n",
      "[[19 22]\n",
      " [43 50]]\n"
     ]
    }
   ],
   "source": [
    "import numpy as np\n",
    "A = np.array([[1, 2], [3, 4]])\n",
    "B = np.array([[5, 6], [7, 8]])\n",
    "\n",
    "print(A + B)\n",
    "print(A.dot(B))"
   ]
  },
  {
   "cell_type": "markdown",
   "id": "40f05dbc",
   "metadata": {},
   "source": [
    "💡 Ideal para cálculos numéricos, álgebra lineal y análisis científico."
   ]
  },
  {
   "cell_type": "markdown",
   "id": "17d3557d",
   "metadata": {},
   "source": [
    "## 13. Pandas: manejo de tablas (DataFrames)\n",
    "Instálalo con `pip install pandas`"
   ]
  },
  {
   "cell_type": "code",
   "execution_count": 27,
   "id": "812373b6",
   "metadata": {},
   "outputs": [
    {
     "name": "stdout",
     "output_type": "stream",
     "text": [
      "  Nombre  Edad    Ciudad\n",
      "0    Ana    23    Bogotá\n",
      "1   Luis    30      Cali\n",
      "2  María    19  Medellín\n",
      "            Edad\n",
      "count   3.000000\n",
      "mean   24.000000\n",
      "std     5.567764\n",
      "min    19.000000\n",
      "25%    21.000000\n",
      "50%    23.000000\n",
      "75%    26.500000\n",
      "max    30.000000\n"
     ]
    }
   ],
   "source": [
    "import pandas as pd\n",
    "datos = {'Nombre': ['Ana', 'Luis', 'María'], 'Edad': [23, 30, 19], 'Ciudad': ['Bogotá', 'Cali', 'Medellín']}\n",
    "\n",
    "df = pd.DataFrame(datos)\n",
    "print(df)\n",
    "print(df.describe())"
   ]
  },
  {
   "cell_type": "markdown",
   "id": "4c66d03d",
   "metadata": {},
   "source": [
    "💡 Usa `df.info()` para ver información general de tu DataFrame."
   ]
  },
  {
   "cell_type": "markdown",
   "id": "b79fe007",
   "metadata": {},
   "source": [
    "## 14. Matplotlib: crear gráficos\n",
    "Instálalo con `pip install matplotlib`\n"
   ]
  },
  {
   "cell_type": "code",
   "execution_count": 28,
   "id": "8f764dc4",
   "metadata": {},
   "outputs": [
    {
     "data": {
      "image/png": "[encoded data removed]",
      "text/plain": [
       "<Figure size 640x480 with 1 Axes>"
      ]
     },
     "metadata": {},
     "output_type": "display_data"
    }
   ],
   "source": [
    "import matplotlib.pyplot as plt\n",
    "x = [1, 2, 3, 4, 5]\n",
    "y = [2, 4, 6, 8, 10]\n",
    "\n",
    "plt.plot(x, y, marker='o')\n",
    "plt.title('Gráfico simple')\n",
    "plt.xlabel('Eje X')\n",
    "plt.ylabel('Eje Y')\n",
    "plt.show()"
   ]
  },
  {
   "cell_type": "markdown",
   "id": "15c82a32",
   "metadata": {},
   "source": [
    "💡 Puedes usar `plt.bar`, `plt.hist`, `plt.scatter` para otros tipos de gráficos."
   ]
  },
  {
   "cell_type": "markdown",
   "id": "f3ce668f",
   "metadata": {},
   "source": [
    "## 15. Manejo de errores (try-except)\n",
    "Permite controlar errores sin detener el programa."
   ]
  },
  {
   "cell_type": "code",
   "execution_count": 29,
   "id": "09240d1a",
   "metadata": {},
   "outputs": [
    {
     "name": "stdout",
     "output_type": "stream",
     "text": [
      "El doble es 28\n"
     ]
    }
   ],
   "source": [
    "try:\n",
    "    num = int(input('Ingresa un número: '))\n",
    "    print('El doble es', num*2)\n",
    "except ValueError:\n",
    "    print('Error: debes ingresar un número válido.')"
   ]
  },
  {
   "cell_type": "markdown",
   "id": "ebb65661",
   "metadata": {},
   "source": [
    "## 16. Comprensión de listas\n",
    "Sintaxis compacta para crear listas de forma eficiente."
   ]
  },
  {
   "cell_type": "code",
   "execution_count": 30,
   "id": "3b2e534c",
   "metadata": {},
   "outputs": [
    {
     "name": "stdout",
     "output_type": "stream",
     "text": [
      "[0, 1, 4, 9, 16, 25, 36, 49, 64, 81]\n"
     ]
    }
   ],
   "source": [
    "cuadrados = [x**2 for x in range(10)]\n",
    "print(cuadrados)"
   ]
  },
  {
   "cell_type": "markdown",
   "id": "3212d806",
   "metadata": {},
   "source": [
    "## 17. Funciones lambda\n",
    "Son funciones anónimas de una sola línea."
   ]
  },
  {
   "cell_type": "code",
   "execution_count": 31,
   "id": "c03184bb",
   "metadata": {},
   "outputs": [
    {
     "name": "stdout",
     "output_type": "stream",
     "text": [
      "16\n"
     ]
    }
   ],
   "source": [
    "cuadrado = lambda x: x**2\n",
    "print(cuadrado(4))"
   ]
  },
  {
   "cell_type": "markdown",
   "id": "464475f3",
   "metadata": {},
   "source": [
    "💡 Útiles para operaciones rápidas, especialmente en `map()` y `filter()`."
   ]
  },
  {
   "cell_type": "markdown",
   "id": "20f7446f",
   "metadata": {},
   "source": [
    "## 18. Proyecto final: combinar todo"
   ]
  },
  {
   "cell_type": "code",
   "execution_count": 32,
   "id": "17947e0b",
   "metadata": {},
   "outputs": [
    {
     "name": "stdout",
     "output_type": "stream",
     "text": [
      "Promedio de ventas: 150.0\n"
     ]
    },
    {
     "data": {
      "image/png": "[encoded data removed]",
      "text/plain": [
       "<Figure size 640x480 with 1 Axes>"
      ]
     },
     "metadata": {},
     "output_type": "display_data"
    }
   ],
   "source": [
    "import pandas as pd\n",
    "import matplotlib.pyplot as plt\n",
    "\n",
    "datos = {'Año': [2021, 2022, 2023], 'Ventas': [100, 150, 200]}\n",
    "df = pd.DataFrame(datos)\n",
    "\n",
    "print('Promedio de ventas:', df['Ventas'].mean())\n",
    "\n",
    "plt.bar(df['Año'], df['Ventas'])\n",
    "plt.title('Ventas por Año')\n",
    "plt.show()\n"
   ]
  },
  {
   "cell_type": "markdown",
   "id": "61281aa2",
   "metadata": {},
   "source": [
    "### 🧭 Conclusión\n",
    "En esta guía aprendiste desde lo más básico de Python hasta el manejo de librerías para análisis de datos y visualización. Con estas bases puedes continuar hacia áreas más avanzadas como *machine learning*, *análisis estadístico* o *automatización de procesos*."
   ]
  }
 ],
 "metadata": {
  "kernelspec": {
   "display_name": "Python 3",
   "language": "python",
   "name": "python3"
  },
  "language_info": {
   "codemirror_mode": {
    "name": "ipython",
    "version": 3
   },
   "file_extension": ".py",
   "mimetype": "text/x-python",
   "name": "python",
   "nbconvert_exporter": "python",
   "pygments_lexer": "ipython3",
   "version": "3.14.0"
  }
 },
 "nbformat": 4,
 "nbformat_minor": 5
}
